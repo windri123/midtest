{
  "nbformat": 4,
  "nbformat_minor": 5,
  "metadata": {
    "kernelspec": {
      "display_name": "Python 3",
      "language": "python",
      "name": "python3"
    },
    "language_info": {
      "codemirror_mode": {
        "name": "ipython",
        "version": 3
      },
      "file_extension": ".py",
      "mimetype": "text/x-python",
      "name": "python",
      "nbconvert_exporter": "python",
      "pygments_lexer": "ipython3",
      "version": "3.7.0"
    },
    "colab": {
      "provenance": [],
      "toc_visible": true
    }
  },
  "cells": [
    {
      "cell_type": "markdown",
      "metadata": {
        "id": "87919d68"
      },
      "source": [
        "### Python 1 : Addition To String"
      ],
      "id": "87919d68"
    },
    {
      "cell_type": "markdown",
      "metadata": {
        "id": "c061c30a"
      },
      "source": [
        "### Task"
      ],
      "id": "c061c30a"
    },
    {
      "cell_type": "markdown",
      "metadata": {
        "id": "66fcf833"
      },
      "source": [
        "Your function name should be `add_str`.\n",
        "\n",
        "Given a string filled with integers separated by comma. Create a new number, whose digits are the integers inside the string. Then, add 1 to the new number. Then, separate the digits again to a string which consits of **single digit of\n",
        "integers**, separated by comma. This new string will be your output string. The output string **should not have zero as its first character**.  See the examples for clearer understanding."
      ],
      "id": "66fcf833"
    },
    {
      "cell_type": "markdown",
      "metadata": {
        "id": "aee24374"
      },
      "source": [
        "### Example 1:\n",
        "\n",
        "- Input = `'1,3,5'`\n",
        "- Output = `'1,3,6'`\n",
        "\n",
        "Since the input is `'1,3,5'`, then the new number created is 135. Add 135 with 1 so it becomes 136. Then, separate back 136 into each individual digits separated by comma. This becomes `'1,3,6'`. So, the expected output of your solution is `'1,3,6'`"
      ],
      "id": "aee24374"
    },
    {
      "cell_type": "markdown",
      "metadata": {
        "id": "e85af386"
      },
      "source": [
        "### Example 2:\n",
        "\n",
        "- Input = `'1,3,39'`\n",
        "- Output = `'1,3,4,0'`\n",
        "\n",
        "Since the input is `'1,3,39'`, then the new number created is 1339. Add 1339 with 1 so it becomes 1340. Then, separate back 1340 into each individual digits separated by comma. This becomes `'1,3,4,0'`. So, the expected output of your solution is `'1,3,4,0'`"
      ],
      "id": "e85af386"
    },
    {
      "cell_type": "markdown",
      "metadata": {
        "id": "bbeb3f41"
      },
      "source": [
        "### Example 1:\n",
        "\n",
        "- Input = `'0,1,3,39'`\n",
        "- Output = `'1,3,4,0'`\n",
        "\n",
        "Since the input is `'0,1,3,39'`, then the new number created is 1339. Add 1339 with 1 so it becomes 1340. Then, separate back 1340 into each individual digits separated by comma. This becomes `'1,3,4,0'`. So, the expected output of your solution is `'1,3,4,0'`. Remember, do not put a 'zero' in the beginning of your output."
      ],
      "id": "bbeb3f41"
    },
    {
      "cell_type": "markdown",
      "metadata": {
        "id": "e7807496"
      },
      "source": [
        "### Input Format\n",
        "\n",
        "The input is in the shape of a string."
      ],
      "id": "e7807496"
    },
    {
      "cell_type": "markdown",
      "metadata": {
        "id": "e9f0d6c5"
      },
      "source": [
        "### Output Format\n",
        "\n",
        "The output is in the shape of a string."
      ],
      "id": "e9f0d6c5"
    },
    {
      "cell_type": "markdown",
      "metadata": {
        "id": "f9173e59"
      },
      "source": [
        "### Sample Input"
      ],
      "id": "f9173e59"
    },
    {
      "cell_type": "markdown",
      "metadata": {
        "id": "c0526b8c"
      },
      "source": [
        "`'1,5,1,9'`"
      ],
      "id": "c0526b8c"
    },
    {
      "cell_type": "markdown",
      "metadata": {
        "id": "71fad9f8"
      },
      "source": [
        "### Sample Output\n",
        "`'1,5,2,0'`"
      ],
      "id": "71fad9f8"
    },
    {
      "cell_type": "markdown",
      "metadata": {
        "id": "8306d027"
      },
      "source": [
        "### Space for Work"
      ],
      "id": "8306d027"
    },
    {
      "cell_type": "code",
      "metadata": {
        "id": "6756b480",
        "colab": {
          "base_uri": "https://localhost:8080/"
        },
        "outputId": "e2735be6-d280-475a-ee88-30fc10ecc0bb"
      },
      "source": [
        "def add_str(input_string):\n",
        "    string_list = input_string.split(',')\n",
        "    int_list = [int(num) for num in string_list]\n",
        "    total = int(''.join(map(str, int_list)))+1\n",
        "    formatted_total = ','.join(str(total))\n",
        "\n",
        "    return formatted_total\n",
        "x = input()\n",
        "print(add_str(x))"
      ],
      "id": "6756b480",
      "execution_count": 3,
      "outputs": [
        {
          "output_type": "stream",
          "name": "stdout",
          "text": [
            "1,5,1,9\n",
            "1,5,2,0\n"
          ]
        }
      ]
    }
  ]
}